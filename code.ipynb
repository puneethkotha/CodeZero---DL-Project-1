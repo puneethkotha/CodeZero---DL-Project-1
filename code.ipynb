{
 "cells": [
  {
   "cell_type": "code",
   "execution_count": 3,
   "id": "ef7016a7-43c3-4811-897f-85333b8db558",
   "metadata": {},
   "outputs": [
    {
     "name": "stderr",
     "output_type": "stream",
     "text": [
      "/home/pk3058/.local/lib/python3.9/site-packages/torch/optim/lr_scheduler.py:62: UserWarning: The verbose parameter is deprecated. Please use get_last_lr() to access the learning rate.\n",
      "  warnings.warn(\n"
     ]
    },
    {
     "name": "stdout",
     "output_type": "stream",
     "text": [
      "\n",
      "Model Summary:\n",
      "Total parameters: 2,760,490\n",
      "Trainable parameters: 2,760,490\n",
      "\n",
      "----------------------------------------------------------------\n",
      "        Layer (type)               Output Shape         Param #\n",
      "================================================================\n",
      "            Conv2d-1           [-1, 32, 32, 32]             864\n",
      "       BatchNorm2d-2           [-1, 32, 32, 32]              64\n",
      "              ReLU-3           [-1, 32, 32, 32]               0\n",
      "            Conv2d-4           [-1, 64, 32, 32]           2,048\n",
      "       BatchNorm2d-5           [-1, 64, 32, 32]             128\n",
      "            Conv2d-6           [-1, 64, 32, 32]          18,432\n",
      "       BatchNorm2d-7           [-1, 64, 32, 32]             128\n",
      "              ReLU-8           [-1, 64, 32, 32]               0\n",
      "            Conv2d-9           [-1, 64, 32, 32]          36,864\n",
      "      BatchNorm2d-10           [-1, 64, 32, 32]             128\n",
      "             ReLU-11           [-1, 64, 32, 32]               0\n",
      "          Dropout-12           [-1, 64, 32, 32]               0\n",
      "    ResidualBlock-13           [-1, 64, 32, 32]               0\n",
      "           Conv2d-14           [-1, 64, 32, 32]          36,864\n",
      "      BatchNorm2d-15           [-1, 64, 32, 32]             128\n",
      "             ReLU-16           [-1, 64, 32, 32]               0\n",
      "           Conv2d-17           [-1, 64, 32, 32]          36,864\n",
      "      BatchNorm2d-18           [-1, 64, 32, 32]             128\n",
      "             ReLU-19           [-1, 64, 32, 32]               0\n",
      "          Dropout-20           [-1, 64, 32, 32]               0\n",
      "    ResidualBlock-21           [-1, 64, 32, 32]               0\n",
      "           Conv2d-22          [-1, 128, 16, 16]           8,192\n",
      "      BatchNorm2d-23          [-1, 128, 16, 16]             256\n",
      "           Conv2d-24          [-1, 128, 16, 16]          73,728\n",
      "      BatchNorm2d-25          [-1, 128, 16, 16]             256\n",
      "             ReLU-26          [-1, 128, 16, 16]               0\n",
      "           Conv2d-27          [-1, 128, 16, 16]         147,456\n",
      "      BatchNorm2d-28          [-1, 128, 16, 16]             256\n",
      "             ReLU-29          [-1, 128, 16, 16]               0\n",
      "          Dropout-30          [-1, 128, 16, 16]               0\n",
      "    ResidualBlock-31          [-1, 128, 16, 16]               0\n",
      "           Conv2d-32          [-1, 128, 16, 16]         147,456\n",
      "      BatchNorm2d-33          [-1, 128, 16, 16]             256\n",
      "             ReLU-34          [-1, 128, 16, 16]               0\n",
      "           Conv2d-35          [-1, 128, 16, 16]         147,456\n",
      "      BatchNorm2d-36          [-1, 128, 16, 16]             256\n",
      "             ReLU-37          [-1, 128, 16, 16]               0\n",
      "          Dropout-38          [-1, 128, 16, 16]               0\n",
      "    ResidualBlock-39          [-1, 128, 16, 16]               0\n",
      "           Conv2d-40            [-1, 256, 8, 8]          32,768\n",
      "      BatchNorm2d-41            [-1, 256, 8, 8]             512\n",
      "           Conv2d-42            [-1, 256, 8, 8]         294,912\n",
      "      BatchNorm2d-43            [-1, 256, 8, 8]             512\n",
      "             ReLU-44            [-1, 256, 8, 8]               0\n",
      "           Conv2d-45            [-1, 256, 8, 8]         589,824\n",
      "      BatchNorm2d-46            [-1, 256, 8, 8]             512\n",
      "             ReLU-47            [-1, 256, 8, 8]               0\n",
      "          Dropout-48            [-1, 256, 8, 8]               0\n",
      "    ResidualBlock-49            [-1, 256, 8, 8]               0\n",
      "           Conv2d-50            [-1, 256, 8, 8]         589,824\n",
      "      BatchNorm2d-51            [-1, 256, 8, 8]             512\n",
      "             ReLU-52            [-1, 256, 8, 8]               0\n",
      "           Conv2d-53            [-1, 256, 8, 8]         589,824\n",
      "      BatchNorm2d-54            [-1, 256, 8, 8]             512\n",
      "             ReLU-55            [-1, 256, 8, 8]               0\n",
      "          Dropout-56            [-1, 256, 8, 8]               0\n",
      "    ResidualBlock-57            [-1, 256, 8, 8]               0\n",
      "AdaptiveAvgPool2d-58            [-1, 256, 1, 1]               0\n",
      "          Dropout-59                  [-1, 256]               0\n",
      "           Linear-60                   [-1, 10]           2,570\n",
      "================================================================\n",
      "Total params: 2,760,490\n",
      "Trainable params: 2,760,490\n",
      "Non-trainable params: 0\n",
      "----------------------------------------------------------------\n",
      "Input size (MB): 0.01\n",
      "Forward/backward pass size (MB): 16.50\n",
      "Params size (MB): 10.53\n",
      "Estimated Total Size (MB): 27.05\n",
      "----------------------------------------------------------------\n"
     ]
    },
    {
     "name": "stderr",
     "output_type": "stream",
     "text": [
      "                                                                                \r"
     ]
    },
    {
     "name": "stdout",
     "output_type": "stream",
     "text": [
      "[Epoch 1/100]\n",
      "Train - Loss: 1.9916, Acc: 21.02%, Precision: 0.2081\n",
      "Valid - Loss: 1.7215, Acc: 42.84%, Precision: 0.4950\n",
      "New best accuracy: 42.84%\n"
     ]
    },
    {
     "name": "stderr",
     "output_type": "stream",
     "text": [
      "                                                                                \r"
     ]
    },
    {
     "name": "stdout",
     "output_type": "stream",
     "text": [
      "[Epoch 2/100]\n",
      "Train - Loss: 1.7147, Acc: 29.38%, Precision: 0.2903\n",
      "Valid - Loss: 1.5595, Acc: 51.56%, Precision: 0.5745\n",
      "New best accuracy: 51.56%\n"
     ]
    },
    {
     "name": "stderr",
     "output_type": "stream",
     "text": [
      "                                                                                \r"
     ]
    },
    {
     "name": "stdout",
     "output_type": "stream",
     "text": [
      "[Epoch 3/100]\n",
      "Train - Loss: 1.5897, Acc: 33.59%, Precision: 0.3327\n",
      "Valid - Loss: 1.5473, Acc: 54.26%, Precision: 0.5881\n",
      "New best accuracy: 54.26%\n"
     ]
    },
    {
     "name": "stderr",
     "output_type": "stream",
     "text": [
      "                                                                                \r"
     ]
    },
    {
     "name": "stdout",
     "output_type": "stream",
     "text": [
      "[Epoch 4/100]\n",
      "Train - Loss: 1.5564, Acc: 34.59%, Precision: 0.3438\n",
      "Valid - Loss: 1.3592, Acc: 62.16%, Precision: 0.6353\n",
      "New best accuracy: 62.16%\n"
     ]
    },
    {
     "name": "stderr",
     "output_type": "stream",
     "text": [
      "                                                                                \r"
     ]
    },
    {
     "name": "stdout",
     "output_type": "stream",
     "text": [
      "[Epoch 5/100]\n",
      "Train - Loss: 1.5044, Acc: 37.09%, Precision: 0.3694\n",
      "Valid - Loss: 1.2745, Acc: 65.66%, Precision: 0.6770\n",
      "New best accuracy: 65.66%\n"
     ]
    },
    {
     "name": "stderr",
     "output_type": "stream",
     "text": [
      "                                                                                \r"
     ]
    },
    {
     "name": "stdout",
     "output_type": "stream",
     "text": [
      "[Epoch 6/100]\n",
      "Train - Loss: 1.4421, Acc: 38.59%, Precision: 0.3841\n",
      "Valid - Loss: 1.2089, Acc: 68.66%, Precision: 0.7125\n",
      "New best accuracy: 68.66%\n"
     ]
    },
    {
     "name": "stderr",
     "output_type": "stream",
     "text": [
      "                                                                                \r"
     ]
    },
    {
     "name": "stdout",
     "output_type": "stream",
     "text": [
      "[Epoch 7/100]\n",
      "Train - Loss: 1.4385, Acc: 38.79%, Precision: 0.3864\n",
      "Valid - Loss: 1.1698, Acc: 70.72%, Precision: 0.7230\n",
      "New best accuracy: 70.72%\n"
     ]
    },
    {
     "name": "stderr",
     "output_type": "stream",
     "text": [
      "                                                                                \r"
     ]
    },
    {
     "name": "stdout",
     "output_type": "stream",
     "text": [
      "[Epoch 8/100]\n",
      "Train - Loss: 1.3740, Acc: 41.29%, Precision: 0.4118\n",
      "Valid - Loss: 1.1456, Acc: 71.88%, Precision: 0.7274\n",
      "New best accuracy: 71.88%\n"
     ]
    },
    {
     "name": "stderr",
     "output_type": "stream",
     "text": [
      "                                                                                \r"
     ]
    },
    {
     "name": "stdout",
     "output_type": "stream",
     "text": [
      "[Epoch 9/100]\n",
      "Train - Loss: 1.3652, Acc: 38.31%, Precision: 0.3821\n",
      "Valid - Loss: 1.0757, Acc: 74.28%, Precision: 0.7541\n",
      "New best accuracy: 74.28%\n"
     ]
    },
    {
     "name": "stderr",
     "output_type": "stream",
     "text": [
      "                                                                                \r"
     ]
    },
    {
     "name": "stdout",
     "output_type": "stream",
     "text": [
      "[Epoch 10/100]\n",
      "Train - Loss: 1.3213, Acc: 40.86%, Precision: 0.4076\n",
      "Valid - Loss: 1.0707, Acc: 75.24%, Precision: 0.7608\n",
      "New best accuracy: 75.24%\n"
     ]
    },
    {
     "name": "stderr",
     "output_type": "stream",
     "text": [
      "                                                                                \r"
     ]
    },
    {
     "name": "stdout",
     "output_type": "stream",
     "text": [
      "[Epoch 11/100]\n",
      "Train - Loss: 1.3089, Acc: 44.12%, Precision: 0.4402\n",
      "Valid - Loss: 1.0990, Acc: 73.18%, Precision: 0.7695\n"
     ]
    },
    {
     "name": "stderr",
     "output_type": "stream",
     "text": [
      "                                                                                \r"
     ]
    },
    {
     "name": "stdout",
     "output_type": "stream",
     "text": [
      "[Epoch 12/100]\n",
      "Train - Loss: 1.2973, Acc: 47.26%, Precision: 0.4716\n",
      "Valid - Loss: 1.0543, Acc: 75.82%, Precision: 0.7778\n",
      "New best accuracy: 75.82%\n"
     ]
    },
    {
     "name": "stderr",
     "output_type": "stream",
     "text": [
      "                                                                                \r"
     ]
    },
    {
     "name": "stdout",
     "output_type": "stream",
     "text": [
      "[Epoch 13/100]\n",
      "Train - Loss: 1.2787, Acc: 42.75%, Precision: 0.4266\n",
      "Valid - Loss: 1.0118, Acc: 79.00%, Precision: 0.7964\n",
      "New best accuracy: 79.00%\n"
     ]
    },
    {
     "name": "stderr",
     "output_type": "stream",
     "text": [
      "                                                                                \r"
     ]
    },
    {
     "name": "stdout",
     "output_type": "stream",
     "text": [
      "[Epoch 14/100]\n",
      "Train - Loss: 1.2679, Acc: 42.73%, Precision: 0.4265\n",
      "Valid - Loss: 1.0055, Acc: 78.62%, Precision: 0.8049\n"
     ]
    },
    {
     "name": "stderr",
     "output_type": "stream",
     "text": [
      "                                                                                \r"
     ]
    },
    {
     "name": "stdout",
     "output_type": "stream",
     "text": [
      "[Epoch 15/100]\n",
      "Train - Loss: 1.2329, Acc: 45.74%, Precision: 0.4567\n",
      "Valid - Loss: 1.0072, Acc: 79.02%, Precision: 0.8150\n",
      "New best accuracy: 79.02%\n"
     ]
    },
    {
     "name": "stderr",
     "output_type": "stream",
     "text": [
      "                                                                                \r"
     ]
    },
    {
     "name": "stdout",
     "output_type": "stream",
     "text": [
      "[Epoch 16/100]\n",
      "Train - Loss: 1.2492, Acc: 44.53%, Precision: 0.4445\n",
      "Valid - Loss: 0.9868, Acc: 78.86%, Precision: 0.8029\n"
     ]
    },
    {
     "name": "stderr",
     "output_type": "stream",
     "text": [
      "                                                                                \r"
     ]
    },
    {
     "name": "stdout",
     "output_type": "stream",
     "text": [
      "[Epoch 17/100]\n",
      "Train - Loss: 1.2404, Acc: 42.58%, Precision: 0.4249\n",
      "Valid - Loss: 0.9692, Acc: 80.70%, Precision: 0.8279\n",
      "New best accuracy: 80.70%\n"
     ]
    },
    {
     "name": "stderr",
     "output_type": "stream",
     "text": [
      "                                                                                \r"
     ]
    },
    {
     "name": "stdout",
     "output_type": "stream",
     "text": [
      "[Epoch 18/100]\n",
      "Train - Loss: 1.2008, Acc: 43.12%, Precision: 0.4306\n",
      "Valid - Loss: 0.9539, Acc: 81.82%, Precision: 0.8175\n",
      "New best accuracy: 81.82%\n"
     ]
    },
    {
     "name": "stderr",
     "output_type": "stream",
     "text": [
      "                                                                                \r"
     ]
    },
    {
     "name": "stdout",
     "output_type": "stream",
     "text": [
      "[Epoch 19/100]\n",
      "Train - Loss: 1.1706, Acc: 40.55%, Precision: 0.4050\n",
      "Valid - Loss: 0.9760, Acc: 80.64%, Precision: 0.8151\n"
     ]
    },
    {
     "name": "stderr",
     "output_type": "stream",
     "text": [
      "                                                                                \r"
     ]
    },
    {
     "name": "stdout",
     "output_type": "stream",
     "text": [
      "[Epoch 20/100]\n",
      "Train - Loss: 1.1893, Acc: 47.84%, Precision: 0.4776\n",
      "Valid - Loss: 0.9172, Acc: 82.60%, Precision: 0.8300\n",
      "New best accuracy: 82.60%\n"
     ]
    },
    {
     "name": "stderr",
     "output_type": "stream",
     "text": [
      "                                                                                \r"
     ]
    },
    {
     "name": "stdout",
     "output_type": "stream",
     "text": [
      "[Epoch 21/100]\n",
      "Train - Loss: 1.1977, Acc: 45.67%, Precision: 0.4560\n",
      "Valid - Loss: 0.9526, Acc: 81.88%, Precision: 0.8346\n"
     ]
    },
    {
     "name": "stderr",
     "output_type": "stream",
     "text": [
      "                                                                                \r"
     ]
    },
    {
     "name": "stdout",
     "output_type": "stream",
     "text": [
      "[Epoch 22/100]\n",
      "Train - Loss: 1.1769, Acc: 46.03%, Precision: 0.4597\n",
      "Valid - Loss: 1.0039, Acc: 78.74%, Precision: 0.8089\n"
     ]
    },
    {
     "name": "stderr",
     "output_type": "stream",
     "text": [
      "                                                                                \r"
     ]
    },
    {
     "name": "stdout",
     "output_type": "stream",
     "text": [
      "[Epoch 23/100]\n",
      "Train - Loss: 1.1907, Acc: 44.82%, Precision: 0.4474\n",
      "Valid - Loss: 0.9084, Acc: 83.18%, Precision: 0.8346\n",
      "New best accuracy: 83.18%\n"
     ]
    },
    {
     "name": "stderr",
     "output_type": "stream",
     "text": [
      "                                                                                \r"
     ]
    },
    {
     "name": "stdout",
     "output_type": "stream",
     "text": [
      "[Epoch 24/100]\n",
      "Train - Loss: 1.1931, Acc: 45.03%, Precision: 0.4496\n",
      "Valid - Loss: 0.9195, Acc: 83.40%, Precision: 0.8386\n",
      "New best accuracy: 83.40%\n"
     ]
    },
    {
     "name": "stderr",
     "output_type": "stream",
     "text": [
      "                                                                                \r"
     ]
    },
    {
     "name": "stdout",
     "output_type": "stream",
     "text": [
      "[Epoch 25/100]\n",
      "Train - Loss: 1.1360, Acc: 47.35%, Precision: 0.4731\n",
      "Valid - Loss: 0.9357, Acc: 82.12%, Precision: 0.8361\n"
     ]
    },
    {
     "name": "stderr",
     "output_type": "stream",
     "text": [
      "                                                                                \r"
     ]
    },
    {
     "name": "stdout",
     "output_type": "stream",
     "text": [
      "[Epoch 26/100]\n",
      "Train - Loss: 1.1590, Acc: 42.39%, Precision: 0.4233\n",
      "Valid - Loss: 0.9471, Acc: 81.64%, Precision: 0.8344\n"
     ]
    },
    {
     "name": "stderr",
     "output_type": "stream",
     "text": [
      "                                                                                \r"
     ]
    },
    {
     "name": "stdout",
     "output_type": "stream",
     "text": [
      "[Epoch 27/100]\n",
      "Train - Loss: 1.1530, Acc: 43.68%, Precision: 0.4361\n",
      "Valid - Loss: 0.8765, Acc: 84.30%, Precision: 0.8449\n",
      "New best accuracy: 84.30%\n"
     ]
    },
    {
     "name": "stderr",
     "output_type": "stream",
     "text": [
      "                                                                                \r"
     ]
    },
    {
     "name": "stdout",
     "output_type": "stream",
     "text": [
      "[Epoch 28/100]\n",
      "Train - Loss: 1.1702, Acc: 43.81%, Precision: 0.4376\n",
      "Valid - Loss: 0.9142, Acc: 82.64%, Precision: 0.8435\n"
     ]
    },
    {
     "name": "stderr",
     "output_type": "stream",
     "text": [
      "                                                                                \r"
     ]
    },
    {
     "name": "stdout",
     "output_type": "stream",
     "text": [
      "[Epoch 29/100]\n",
      "Train - Loss: 1.1480, Acc: 50.30%, Precision: 0.5023\n",
      "Valid - Loss: 0.9156, Acc: 83.54%, Precision: 0.8357\n"
     ]
    },
    {
     "name": "stderr",
     "output_type": "stream",
     "text": [
      "                                                                                \r"
     ]
    },
    {
     "name": "stdout",
     "output_type": "stream",
     "text": [
      "[Epoch 30/100]\n",
      "Train - Loss: 1.1323, Acc: 47.82%, Precision: 0.4776\n",
      "Valid - Loss: 0.8905, Acc: 84.00%, Precision: 0.8444\n"
     ]
    },
    {
     "name": "stderr",
     "output_type": "stream",
     "text": [
      "                                                                                \r"
     ]
    },
    {
     "name": "stdout",
     "output_type": "stream",
     "text": [
      "[Epoch 31/100]\n",
      "Train - Loss: 1.1372, Acc: 46.70%, Precision: 0.4665\n",
      "Valid - Loss: 0.8654, Acc: 85.04%, Precision: 0.8548\n",
      "New best accuracy: 85.04%\n"
     ]
    },
    {
     "name": "stderr",
     "output_type": "stream",
     "text": [
      "                                                                                \r"
     ]
    },
    {
     "name": "stdout",
     "output_type": "stream",
     "text": [
      "[Epoch 32/100]\n",
      "Train - Loss: 1.1531, Acc: 40.40%, Precision: 0.4037\n",
      "Valid - Loss: 0.8636, Acc: 85.02%, Precision: 0.8555\n"
     ]
    },
    {
     "name": "stderr",
     "output_type": "stream",
     "text": [
      "                                                                                \r"
     ]
    },
    {
     "name": "stdout",
     "output_type": "stream",
     "text": [
      "[Epoch 33/100]\n",
      "Train - Loss: 1.1373, Acc: 45.30%, Precision: 0.4526\n",
      "Valid - Loss: 0.9003, Acc: 83.64%, Precision: 0.8423\n"
     ]
    },
    {
     "name": "stderr",
     "output_type": "stream",
     "text": [
      "                                                                                \r"
     ]
    },
    {
     "name": "stdout",
     "output_type": "stream",
     "text": [
      "[Epoch 34/100]\n",
      "Train - Loss: 1.1388, Acc: 45.02%, Precision: 0.4497\n",
      "Valid - Loss: 0.8821, Acc: 85.00%, Precision: 0.8567\n"
     ]
    },
    {
     "name": "stderr",
     "output_type": "stream",
     "text": [
      "                                                                                \r"
     ]
    },
    {
     "name": "stdout",
     "output_type": "stream",
     "text": [
      "[Epoch 35/100]\n",
      "Train - Loss: 1.1064, Acc: 49.39%, Precision: 0.4934\n",
      "Valid - Loss: 0.8605, Acc: 84.50%, Precision: 0.8470\n"
     ]
    },
    {
     "name": "stderr",
     "output_type": "stream",
     "text": [
      "                                                                                \r"
     ]
    },
    {
     "name": "stdout",
     "output_type": "stream",
     "text": [
      "[Epoch 36/100]\n",
      "Train - Loss: 1.1131, Acc: 44.39%, Precision: 0.4435\n",
      "Valid - Loss: 0.8687, Acc: 85.60%, Precision: 0.8564\n",
      "New best accuracy: 85.60%\n"
     ]
    },
    {
     "name": "stderr",
     "output_type": "stream",
     "text": [
      "                                                                                \r"
     ]
    },
    {
     "name": "stdout",
     "output_type": "stream",
     "text": [
      "[Epoch 37/100]\n",
      "Train - Loss: 1.1144, Acc: 45.99%, Precision: 0.4593\n",
      "Valid - Loss: 0.9147, Acc: 82.92%, Precision: 0.8376\n"
     ]
    },
    {
     "name": "stderr",
     "output_type": "stream",
     "text": [
      "                                                                                \r"
     ]
    },
    {
     "name": "stdout",
     "output_type": "stream",
     "text": [
      "[Epoch 38/100]\n",
      "Train - Loss: 1.1493, Acc: 45.87%, Precision: 0.4580\n",
      "Valid - Loss: 0.8588, Acc: 84.90%, Precision: 0.8576\n"
     ]
    },
    {
     "name": "stderr",
     "output_type": "stream",
     "text": [
      "                                                                                \r"
     ]
    },
    {
     "name": "stdout",
     "output_type": "stream",
     "text": [
      "[Epoch 39/100]\n",
      "Train - Loss: 1.1461, Acc: 44.00%, Precision: 0.4395\n",
      "Valid - Loss: 0.8914, Acc: 83.88%, Precision: 0.8469\n"
     ]
    },
    {
     "name": "stderr",
     "output_type": "stream",
     "text": [
      "                                                                                \r"
     ]
    },
    {
     "name": "stdout",
     "output_type": "stream",
     "text": [
      "[Epoch 40/100]\n",
      "Train - Loss: 1.1254, Acc: 43.80%, Precision: 0.4375\n",
      "Valid - Loss: 0.8998, Acc: 83.08%, Precision: 0.8402\n"
     ]
    },
    {
     "name": "stderr",
     "output_type": "stream",
     "text": [
      "                                                                                \r"
     ]
    },
    {
     "name": "stdout",
     "output_type": "stream",
     "text": [
      "[Epoch 41/100]\n",
      "Train - Loss: 1.1193, Acc: 42.89%, Precision: 0.4284\n",
      "Valid - Loss: 0.8745, Acc: 84.12%, Precision: 0.8502\n"
     ]
    },
    {
     "name": "stderr",
     "output_type": "stream",
     "text": [
      "                                                                                \r"
     ]
    },
    {
     "name": "stdout",
     "output_type": "stream",
     "text": [
      "[Epoch 42/100]\n",
      "Train - Loss: 1.1445, Acc: 45.08%, Precision: 0.4503\n",
      "Valid - Loss: 0.8659, Acc: 85.28%, Precision: 0.8569\n"
     ]
    },
    {
     "name": "stderr",
     "output_type": "stream",
     "text": [
      "                                                                                \r"
     ]
    },
    {
     "name": "stdout",
     "output_type": "stream",
     "text": [
      "[Epoch 43/100]\n",
      "Train - Loss: 1.1055, Acc: 46.62%, Precision: 0.4657\n",
      "Valid - Loss: 0.8388, Acc: 85.66%, Precision: 0.8581\n",
      "New best accuracy: 85.66%\n"
     ]
    },
    {
     "name": "stderr",
     "output_type": "stream",
     "text": [
      "                                                                                \r"
     ]
    },
    {
     "name": "stdout",
     "output_type": "stream",
     "text": [
      "[Epoch 44/100]\n",
      "Train - Loss: 1.1224, Acc: 46.46%, Precision: 0.4642\n",
      "Valid - Loss: 0.9158, Acc: 83.80%, Precision: 0.8498\n"
     ]
    },
    {
     "name": "stderr",
     "output_type": "stream",
     "text": [
      "                                                                                \r"
     ]
    },
    {
     "name": "stdout",
     "output_type": "stream",
     "text": [
      "[Epoch 45/100]\n",
      "Train - Loss: 1.0889, Acc: 46.46%, Precision: 0.4642\n",
      "Valid - Loss: 0.8602, Acc: 84.92%, Precision: 0.8575\n"
     ]
    },
    {
     "name": "stderr",
     "output_type": "stream",
     "text": [
      "                                                                                \r"
     ]
    },
    {
     "name": "stdout",
     "output_type": "stream",
     "text": [
      "[Epoch 46/100]\n",
      "Train - Loss: 1.1187, Acc: 48.62%, Precision: 0.4857\n",
      "Valid - Loss: 0.8595, Acc: 85.68%, Precision: 0.8576\n",
      "New best accuracy: 85.68%\n"
     ]
    },
    {
     "name": "stderr",
     "output_type": "stream",
     "text": [
      "                                                                                \r"
     ]
    },
    {
     "name": "stdout",
     "output_type": "stream",
     "text": [
      "[Epoch 47/100]\n",
      "Train - Loss: 1.1056, Acc: 46.20%, Precision: 0.4614\n",
      "Valid - Loss: 0.8216, Acc: 86.46%, Precision: 0.8660\n",
      "New best accuracy: 86.46%\n"
     ]
    },
    {
     "name": "stderr",
     "output_type": "stream",
     "text": [
      "                                                                                \r"
     ]
    },
    {
     "name": "stdout",
     "output_type": "stream",
     "text": [
      "[Epoch 48/100]\n",
      "Train - Loss: 1.1183, Acc: 49.45%, Precision: 0.4941\n",
      "Valid - Loss: 0.8667, Acc: 85.26%, Precision: 0.8623\n"
     ]
    },
    {
     "name": "stderr",
     "output_type": "stream",
     "text": [
      "                                                                                \r"
     ]
    },
    {
     "name": "stdout",
     "output_type": "stream",
     "text": [
      "[Epoch 49/100]\n",
      "Train - Loss: 1.1107, Acc: 49.77%, Precision: 0.4972\n",
      "Valid - Loss: 0.8719, Acc: 86.18%, Precision: 0.8643\n"
     ]
    },
    {
     "name": "stderr",
     "output_type": "stream",
     "text": [
      "                                                                                \r"
     ]
    },
    {
     "name": "stdout",
     "output_type": "stream",
     "text": [
      "[Epoch 50/100]\n",
      "Train - Loss: 1.1210, Acc: 49.39%, Precision: 0.4934\n",
      "Valid - Loss: 0.8556, Acc: 85.66%, Precision: 0.8593\n"
     ]
    },
    {
     "name": "stderr",
     "output_type": "stream",
     "text": [
      "                                                                                \r"
     ]
    },
    {
     "name": "stdout",
     "output_type": "stream",
     "text": [
      "[Epoch 51/100]\n",
      "Train - Loss: 1.1030, Acc: 47.02%, Precision: 0.4695\n",
      "Valid - Loss: 0.8337, Acc: 86.14%, Precision: 0.8634\n"
     ]
    },
    {
     "name": "stderr",
     "output_type": "stream",
     "text": [
      "                                                                                \r"
     ]
    },
    {
     "name": "stdout",
     "output_type": "stream",
     "text": [
      "[Epoch 52/100]\n",
      "Train - Loss: 1.0777, Acc: 47.56%, Precision: 0.4751\n",
      "Valid - Loss: 0.8866, Acc: 83.28%, Precision: 0.8457\n"
     ]
    },
    {
     "name": "stderr",
     "output_type": "stream",
     "text": [
      "                                                                                \r"
     ]
    },
    {
     "name": "stdout",
     "output_type": "stream",
     "text": [
      "[Epoch 53/100]\n",
      "Train - Loss: 1.1104, Acc: 48.09%, Precision: 0.4806\n",
      "Valid - Loss: 0.8256, Acc: 86.68%, Precision: 0.8708\n",
      "New best accuracy: 86.68%\n"
     ]
    },
    {
     "name": "stderr",
     "output_type": "stream",
     "text": [
      "                                                                                \r"
     ]
    },
    {
     "name": "stdout",
     "output_type": "stream",
     "text": [
      "[Epoch 54/100]\n",
      "Train - Loss: 1.0864, Acc: 50.48%, Precision: 0.5044\n",
      "Valid - Loss: 0.8235, Acc: 86.86%, Precision: 0.8686\n",
      "New best accuracy: 86.86%\n"
     ]
    },
    {
     "name": "stderr",
     "output_type": "stream",
     "text": [
      "                                                                                \r"
     ]
    },
    {
     "name": "stdout",
     "output_type": "stream",
     "text": [
      "[Epoch 55/100]\n",
      "Train - Loss: 1.0855, Acc: 46.59%, Precision: 0.4656\n",
      "Valid - Loss: 0.8478, Acc: 85.48%, Precision: 0.8588\n"
     ]
    },
    {
     "name": "stderr",
     "output_type": "stream",
     "text": [
      "                                                                                \r"
     ]
    },
    {
     "name": "stdout",
     "output_type": "stream",
     "text": [
      "[Epoch 56/100]\n",
      "Train - Loss: 1.0700, Acc: 48.82%, Precision: 0.4878\n",
      "Valid - Loss: 0.8340, Acc: 85.66%, Precision: 0.8620\n"
     ]
    },
    {
     "name": "stderr",
     "output_type": "stream",
     "text": [
      "                                                                                \r"
     ]
    },
    {
     "name": "stdout",
     "output_type": "stream",
     "text": [
      "[Epoch 57/100]\n",
      "Train - Loss: 1.0944, Acc: 48.50%, Precision: 0.4845\n",
      "Valid - Loss: 0.8435, Acc: 85.86%, Precision: 0.8604\n"
     ]
    },
    {
     "name": "stderr",
     "output_type": "stream",
     "text": [
      "                                                                                \r"
     ]
    },
    {
     "name": "stdout",
     "output_type": "stream",
     "text": [
      "[Epoch 58/100]\n",
      "Train - Loss: 1.0900, Acc: 47.95%, Precision: 0.4792\n",
      "Valid - Loss: 0.8500, Acc: 86.00%, Precision: 0.8652\n"
     ]
    },
    {
     "name": "stderr",
     "output_type": "stream",
     "text": [
      "                                                                                \r"
     ]
    },
    {
     "name": "stdout",
     "output_type": "stream",
     "text": [
      "[Epoch 59/100]\n",
      "Train - Loss: 1.0865, Acc: 50.79%, Precision: 0.5075\n",
      "Valid - Loss: 0.8446, Acc: 85.32%, Precision: 0.8594\n"
     ]
    },
    {
     "name": "stderr",
     "output_type": "stream",
     "text": [
      "                                                                                \r"
     ]
    },
    {
     "name": "stdout",
     "output_type": "stream",
     "text": [
      "[Epoch 60/100]\n",
      "Train - Loss: 1.0738, Acc: 47.68%, Precision: 0.4764\n",
      "Valid - Loss: 0.8471, Acc: 85.70%, Precision: 0.8645\n"
     ]
    },
    {
     "name": "stderr",
     "output_type": "stream",
     "text": [
      "                                                                                \r"
     ]
    },
    {
     "name": "stdout",
     "output_type": "stream",
     "text": [
      "[Epoch 61/100]\n",
      "Train - Loss: 1.0920, Acc: 45.02%, Precision: 0.4498\n",
      "Valid - Loss: 0.8285, Acc: 86.74%, Precision: 0.8742\n"
     ]
    },
    {
     "name": "stderr",
     "output_type": "stream",
     "text": [
      "                                                                                \r"
     ]
    },
    {
     "name": "stdout",
     "output_type": "stream",
     "text": [
      "[Epoch 62/100]\n",
      "Train - Loss: 1.1049, Acc: 47.56%, Precision: 0.4753\n",
      "Valid - Loss: 0.8731, Acc: 84.42%, Precision: 0.8534\n"
     ]
    },
    {
     "name": "stderr",
     "output_type": "stream",
     "text": [
      "                                                                                \r"
     ]
    },
    {
     "name": "stdout",
     "output_type": "stream",
     "text": [
      "[Epoch 63/100]\n",
      "Train - Loss: 1.0985, Acc: 48.08%, Precision: 0.4803\n",
      "Valid - Loss: 0.8334, Acc: 86.42%, Precision: 0.8705\n"
     ]
    },
    {
     "name": "stderr",
     "output_type": "stream",
     "text": [
      "                                                                                \r"
     ]
    },
    {
     "name": "stdout",
     "output_type": "stream",
     "text": [
      "[Epoch 64/100]\n",
      "Train - Loss: 1.0807, Acc: 45.64%, Precision: 0.4559\n",
      "Valid - Loss: 0.8277, Acc: 86.26%, Precision: 0.8663\n"
     ]
    },
    {
     "name": "stderr",
     "output_type": "stream",
     "text": [
      "                                                                                \r"
     ]
    },
    {
     "name": "stdout",
     "output_type": "stream",
     "text": [
      "[Epoch 65/100]\n",
      "Train - Loss: 1.0839, Acc: 48.50%, Precision: 0.4844\n",
      "Valid - Loss: 0.8335, Acc: 85.40%, Precision: 0.8562\n"
     ]
    },
    {
     "name": "stderr",
     "output_type": "stream",
     "text": [
      "                                                                                 \r"
     ]
    },
    {
     "name": "stdout",
     "output_type": "stream",
     "text": [
      "[Epoch 66/100]\n",
      "Train - Loss: 1.0348, Acc: 45.71%, Precision: 0.4567\n",
      "Valid - Loss: 0.7716, Acc: 89.24%, Precision: 0.8927\n",
      "New best accuracy: 89.24%\n"
     ]
    },
    {
     "name": "stderr",
     "output_type": "stream",
     "text": [
      "                                                                                \r"
     ]
    },
    {
     "name": "stdout",
     "output_type": "stream",
     "text": [
      "[Epoch 67/100]\n",
      "Train - Loss: 1.0641, Acc: 52.98%, Precision: 0.5294\n",
      "Valid - Loss: 0.7814, Acc: 88.94%, Precision: 0.8909\n"
     ]
    },
    {
     "name": "stderr",
     "output_type": "stream",
     "text": [
      "                                                                                \r"
     ]
    },
    {
     "name": "stdout",
     "output_type": "stream",
     "text": [
      "[Epoch 68/100]\n",
      "Train - Loss: 1.0273, Acc: 52.80%, Precision: 0.5275\n",
      "Valid - Loss: 0.7740, Acc: 88.84%, Precision: 0.8894\n"
     ]
    },
    {
     "name": "stderr",
     "output_type": "stream",
     "text": [
      "                                                                                 \r"
     ]
    },
    {
     "name": "stdout",
     "output_type": "stream",
     "text": [
      "[Epoch 69/100]\n",
      "Train - Loss: 0.9966, Acc: 46.05%, Precision: 0.4602\n",
      "Valid - Loss: 0.7786, Acc: 88.28%, Precision: 0.8835\n"
     ]
    },
    {
     "name": "stderr",
     "output_type": "stream",
     "text": [
      "                                                                                \r"
     ]
    },
    {
     "name": "stdout",
     "output_type": "stream",
     "text": [
      "[Epoch 70/100]\n",
      "Train - Loss: 1.0474, Acc: 53.31%, Precision: 0.5327\n",
      "Valid - Loss: 0.7940, Acc: 89.20%, Precision: 0.8922\n"
     ]
    },
    {
     "name": "stderr",
     "output_type": "stream",
     "text": [
      "                                                                                 \r"
     ]
    },
    {
     "name": "stdout",
     "output_type": "stream",
     "text": [
      "[Epoch 71/100]\n",
      "Train - Loss: 1.0318, Acc: 48.24%, Precision: 0.4820\n",
      "Valid - Loss: 0.7562, Acc: 88.90%, Precision: 0.8897\n"
     ]
    },
    {
     "name": "stderr",
     "output_type": "stream",
     "text": [
      "                                                                                 \r"
     ]
    },
    {
     "name": "stdout",
     "output_type": "stream",
     "text": [
      "[Epoch 72/100]\n",
      "Train - Loss: 1.0048, Acc: 48.10%, Precision: 0.4806\n",
      "Valid - Loss: 0.7735, Acc: 88.34%, Precision: 0.8865\n"
     ]
    },
    {
     "name": "stderr",
     "output_type": "stream",
     "text": [
      "                                                                                 \r"
     ]
    },
    {
     "name": "stdout",
     "output_type": "stream",
     "text": [
      "[Epoch 73/100]\n",
      "Train - Loss: 1.0471, Acc: 51.59%, Precision: 0.5155\n",
      "Valid - Loss: 0.7655, Acc: 89.50%, Precision: 0.8970\n",
      "New best accuracy: 89.50%\n"
     ]
    },
    {
     "name": "stderr",
     "output_type": "stream",
     "text": [
      "                                                                                 \r"
     ]
    },
    {
     "name": "stdout",
     "output_type": "stream",
     "text": [
      "[Epoch 74/100]\n",
      "Train - Loss: 0.9934, Acc: 48.47%, Precision: 0.4845\n",
      "Valid - Loss: 0.7651, Acc: 89.34%, Precision: 0.8934\n"
     ]
    },
    {
     "name": "stderr",
     "output_type": "stream",
     "text": [
      "                                                                                 \r"
     ]
    },
    {
     "name": "stdout",
     "output_type": "stream",
     "text": [
      "[Epoch 75/100]\n",
      "Train - Loss: 0.9933, Acc: 52.37%, Precision: 0.5233\n",
      "Valid - Loss: 0.7532, Acc: 89.36%, Precision: 0.8949\n"
     ]
    },
    {
     "name": "stderr",
     "output_type": "stream",
     "text": [
      "                                                                                \r"
     ]
    },
    {
     "name": "stdout",
     "output_type": "stream",
     "text": [
      "[Epoch 76/100]\n",
      "Train - Loss: 1.0238, Acc: 49.24%, Precision: 0.4921\n",
      "Valid - Loss: 0.7791, Acc: 89.14%, Precision: 0.8952\n"
     ]
    },
    {
     "name": "stderr",
     "output_type": "stream",
     "text": [
      "                                                                                 \r"
     ]
    },
    {
     "name": "stdout",
     "output_type": "stream",
     "text": [
      "[Epoch 77/100]\n",
      "Train - Loss: 1.0083, Acc: 46.65%, Precision: 0.4662\n",
      "Valid - Loss: 0.7691, Acc: 89.32%, Precision: 0.8973\n"
     ]
    },
    {
     "name": "stderr",
     "output_type": "stream",
     "text": [
      "                                                                                 \r"
     ]
    },
    {
     "name": "stdout",
     "output_type": "stream",
     "text": [
      "[Epoch 78/100]\n",
      "Train - Loss: 1.0001, Acc: 47.81%, Precision: 0.4779\n",
      "Valid - Loss: 0.7561, Acc: 89.38%, Precision: 0.8946\n"
     ]
    },
    {
     "name": "stderr",
     "output_type": "stream",
     "text": [
      "                                                                                 \r"
     ]
    },
    {
     "name": "stdout",
     "output_type": "stream",
     "text": [
      "[Epoch 79/100]\n",
      "Train - Loss: 0.9772, Acc: 45.96%, Precision: 0.4594\n",
      "Valid - Loss: 0.7684, Acc: 88.84%, Precision: 0.8925\n"
     ]
    },
    {
     "name": "stderr",
     "output_type": "stream",
     "text": [
      "                                                                                \r"
     ]
    },
    {
     "name": "stdout",
     "output_type": "stream",
     "text": [
      "[Epoch 80/100]\n",
      "Train - Loss: 1.0576, Acc: 48.50%, Precision: 0.4846\n",
      "Valid - Loss: 0.7919, Acc: 88.62%, Precision: 0.8912\n"
     ]
    },
    {
     "name": "stderr",
     "output_type": "stream",
     "text": [
      "                                                                                \r"
     ]
    },
    {
     "name": "stdout",
     "output_type": "stream",
     "text": [
      "[Epoch 81/100]\n",
      "Train - Loss: 1.0017, Acc: 48.14%, Precision: 0.4812\n",
      "Valid - Loss: 0.7511, Acc: 89.52%, Precision: 0.8972\n",
      "New best accuracy: 89.52%\n"
     ]
    },
    {
     "name": "stderr",
     "output_type": "stream",
     "text": [
      "                                                                                \r"
     ]
    },
    {
     "name": "stdout",
     "output_type": "stream",
     "text": [
      "[Epoch 82/100]\n",
      "Train - Loss: 1.0307, Acc: 50.10%, Precision: 0.5006\n",
      "Valid - Loss: 0.7843, Acc: 88.70%, Precision: 0.8901\n"
     ]
    },
    {
     "name": "stderr",
     "output_type": "stream",
     "text": [
      "                                                                                 \r"
     ]
    },
    {
     "name": "stdout",
     "output_type": "stream",
     "text": [
      "[Epoch 83/100]\n",
      "Train - Loss: 1.0037, Acc: 48.81%, Precision: 0.4878\n",
      "Valid - Loss: 0.7610, Acc: 90.00%, Precision: 0.8994\n",
      "New best accuracy: 90.00%\n"
     ]
    },
    {
     "name": "stderr",
     "output_type": "stream",
     "text": [
      "                                                                                 \r"
     ]
    },
    {
     "name": "stdout",
     "output_type": "stream",
     "text": [
      "[Epoch 84/100]\n",
      "Train - Loss: 0.9972, Acc: 49.48%, Precision: 0.4944\n",
      "Valid - Loss: 0.7536, Acc: 89.54%, Precision: 0.8959\n"
     ]
    },
    {
     "name": "stderr",
     "output_type": "stream",
     "text": [
      "                                                                                 \r"
     ]
    },
    {
     "name": "stdout",
     "output_type": "stream",
     "text": [
      "[Epoch 85/100]\n",
      "Train - Loss: 1.0013, Acc: 52.16%, Precision: 0.5213\n",
      "Valid - Loss: 0.7436, Acc: 89.68%, Precision: 0.8986\n"
     ]
    },
    {
     "name": "stderr",
     "output_type": "stream",
     "text": [
      "                                                                                \r"
     ]
    },
    {
     "name": "stdout",
     "output_type": "stream",
     "text": [
      "[Epoch 86/100]\n",
      "Train - Loss: 1.0362, Acc: 50.30%, Precision: 0.5027\n",
      "Valid - Loss: 0.7988, Acc: 88.16%, Precision: 0.8841\n"
     ]
    },
    {
     "name": "stderr",
     "output_type": "stream",
     "text": [
      "                                                                                 \r"
     ]
    },
    {
     "name": "stdout",
     "output_type": "stream",
     "text": [
      "[Epoch 87/100]\n",
      "Train - Loss: 0.9920, Acc: 52.60%, Precision: 0.5257\n",
      "Valid - Loss: 0.7700, Acc: 88.92%, Precision: 0.8899\n"
     ]
    },
    {
     "name": "stderr",
     "output_type": "stream",
     "text": [
      "                                                                                 \r"
     ]
    },
    {
     "name": "stdout",
     "output_type": "stream",
     "text": [
      "[Epoch 88/100]\n",
      "Train - Loss: 0.9763, Acc: 51.12%, Precision: 0.5109\n",
      "Valid - Loss: 0.7673, Acc: 88.96%, Precision: 0.8915\n"
     ]
    },
    {
     "name": "stderr",
     "output_type": "stream",
     "text": [
      "                                                                                 \r"
     ]
    },
    {
     "name": "stdout",
     "output_type": "stream",
     "text": [
      "[Epoch 89/100]\n",
      "Train - Loss: 0.9878, Acc: 51.13%, Precision: 0.5111\n",
      "Valid - Loss: 0.7712, Acc: 88.26%, Precision: 0.8855\n"
     ]
    },
    {
     "name": "stderr",
     "output_type": "stream",
     "text": [
      "                                                                                 \r"
     ]
    },
    {
     "name": "stdout",
     "output_type": "stream",
     "text": [
      "[Epoch 90/100]\n",
      "Train - Loss: 1.0261, Acc: 49.59%, Precision: 0.4955\n",
      "Valid - Loss: 0.7710, Acc: 89.50%, Precision: 0.8956\n"
     ]
    },
    {
     "name": "stderr",
     "output_type": "stream",
     "text": [
      "                                                                                 \r"
     ]
    },
    {
     "name": "stdout",
     "output_type": "stream",
     "text": [
      "[Epoch 91/100]\n",
      "Train - Loss: 1.0070, Acc: 49.63%, Precision: 0.4959\n",
      "Valid - Loss: 0.7795, Acc: 89.60%, Precision: 0.8974\n"
     ]
    },
    {
     "name": "stderr",
     "output_type": "stream",
     "text": [
      "                                                                                 \r"
     ]
    },
    {
     "name": "stdout",
     "output_type": "stream",
     "text": [
      "[Epoch 92/100]\n",
      "Train - Loss: 0.9975, Acc: 48.29%, Precision: 0.4826\n",
      "Valid - Loss: 0.7920, Acc: 88.88%, Precision: 0.8896\n"
     ]
    },
    {
     "name": "stderr",
     "output_type": "stream",
     "text": [
      "                                                                                \r"
     ]
    },
    {
     "name": "stdout",
     "output_type": "stream",
     "text": [
      "[Epoch 93/100]\n",
      "Train - Loss: 1.0305, Acc: 51.49%, Precision: 0.5147\n",
      "Valid - Loss: 0.7550, Acc: 89.26%, Precision: 0.8927\n"
     ]
    },
    {
     "name": "stderr",
     "output_type": "stream",
     "text": [
      "                                                                                \r"
     ]
    },
    {
     "name": "stdout",
     "output_type": "stream",
     "text": [
      "[Epoch 94/100]\n",
      "Train - Loss: 1.0168, Acc: 52.21%, Precision: 0.5218\n",
      "Valid - Loss: 0.7564, Acc: 89.38%, Precision: 0.8954\n"
     ]
    },
    {
     "name": "stderr",
     "output_type": "stream",
     "text": [
      "                                                                                 \r"
     ]
    },
    {
     "name": "stdout",
     "output_type": "stream",
     "text": [
      "[Epoch 95/100]\n",
      "Train - Loss: 0.9297, Acc: 49.69%, Precision: 0.4967\n",
      "Valid - Loss: 0.7108, Acc: 91.32%, Precision: 0.9130\n",
      "New best accuracy: 91.32%\n"
     ]
    },
    {
     "name": "stderr",
     "output_type": "stream",
     "text": [
      "                                                                                 \r"
     ]
    },
    {
     "name": "stdout",
     "output_type": "stream",
     "text": [
      "[Epoch 96/100]\n",
      "Train - Loss: 0.9928, Acc: 50.22%, Precision: 0.5019\n",
      "Valid - Loss: 0.7475, Acc: 90.22%, Precision: 0.9022\n"
     ]
    },
    {
     "name": "stderr",
     "output_type": "stream",
     "text": [
      "                                                                                 \r"
     ]
    },
    {
     "name": "stdout",
     "output_type": "stream",
     "text": [
      "[Epoch 97/100]\n",
      "Train - Loss: 0.9932, Acc: 52.82%, Precision: 0.5279\n",
      "Valid - Loss: 0.7505, Acc: 90.24%, Precision: 0.9026\n"
     ]
    },
    {
     "name": "stderr",
     "output_type": "stream",
     "text": [
      "                                                                                 \r"
     ]
    },
    {
     "name": "stdout",
     "output_type": "stream",
     "text": [
      "[Epoch 98/100]\n",
      "Train - Loss: 0.9673, Acc: 49.22%, Precision: 0.4920\n",
      "Valid - Loss: 0.7349, Acc: 90.96%, Precision: 0.9098\n"
     ]
    },
    {
     "name": "stderr",
     "output_type": "stream",
     "text": [
      "                                                                                 \r"
     ]
    },
    {
     "name": "stdout",
     "output_type": "stream",
     "text": [
      "[Epoch 99/100]\n",
      "Train - Loss: 0.9271, Acc: 52.68%, Precision: 0.5267\n",
      "Valid - Loss: 0.7245, Acc: 91.10%, Precision: 0.9116\n"
     ]
    },
    {
     "name": "stderr",
     "output_type": "stream",
     "text": [
      "                                                                                 \r"
     ]
    },
    {
     "name": "stdout",
     "output_type": "stream",
     "text": [
      "[Epoch 100/100]\n",
      "Train - Loss: 0.9672, Acc: 47.10%, Precision: 0.4709\n",
      "Valid - Loss: 0.7387, Acc: 90.72%, Precision: 0.9070\n",
      "\n",
      "=== Final Model Evaluation ===\n"
     ]
    },
    {
     "name": "stderr",
     "output_type": "stream",
     "text": [
      "                                                     \r"
     ]
    },
    {
     "name": "stdout",
     "output_type": "stream",
     "text": [
      "Final Test Results:\n",
      "Loss: 0.6917\n",
      "Accuracy: 92.37%\n",
      "Precision: 0.9236\n"
     ]
    },
    {
     "data": {
      "text/plain": [
       "<Figure size 1500x500 with 0 Axes>"
      ]
     },
     "metadata": {},
     "output_type": "display_data"
    },
    {
     "data": {
      "image/png": "[encoded data removed]",
      "text/plain": [
       "<Figure size 1500x500 with 2 Axes>"
      ]
     },
     "metadata": {},
     "output_type": "display_data"
    },
    {
     "name": "stdout",
     "output_type": "stream",
     "text": [
      "Training complete. Best validation accuracy: 91.32%\n"
     ]
    }
   ],
   "source": [
    "#main.py\n",
    "\n",
    "import torch\n",
    "import torch.nn as nn\n",
    "import torch.nn.functional as F\n",
    "import os\n",
    "import numpy as np\n",
    "import pickle\n",
    "import random\n",
    "import pandas as pd\n",
    "import matplotlib.pyplot as plt\n",
    "from sklearn.metrics import precision_score\n",
    "\n",
    "from torch.utils.data import DataLoader, Dataset, random_split\n",
    "from torchvision import transforms\n",
    "from torch.optim import RAdam\n",
    "from torch.optim.lr_scheduler import ReduceLROnPlateau\n",
    "from torchsummary import summary\n",
    "from tqdm import tqdm\n",
    "\n",
    "# Metric Tracker for monitoring training\n",
    "\n",
    "class MetricTracker:\n",
    "    def __init__(self):\n",
    "        self.train_losses = []\n",
    "        self.train_accs = []\n",
    "        self.train_precs = []\n",
    "        self.val_losses = []\n",
    "        self.val_accs = []\n",
    "        self.val_precs = []\n",
    "        \n",
    "    def update(self, train_loss, train_acc, train_prec, val_loss, val_acc, val_prec):\n",
    "        self.train_losses.append(train_loss)\n",
    "        self.train_accs.append(train_acc)\n",
    "        self.train_precs.append(train_prec)\n",
    "        self.val_losses.append(val_loss)\n",
    "        self.val_accs.append(val_acc)\n",
    "        self.val_precs.append(val_prec)\n",
    "    \n",
    "    def plot_metrics(self):\n",
    "        fig, (ax1, ax2) = plt.subplots(1, 2, figsize=(15, 5))\n",
    "        \n",
    "        # Plot losses\n",
    "        ax1.plot(self.train_losses, label='Train Loss')\n",
    "        ax1.plot(self.val_losses, label='Val Loss')\n",
    "        ax1.set_title('Losses')\n",
    "        ax1.set_xlabel('Epoch')\n",
    "        ax1.set_ylabel('Loss')\n",
    "        ax1.legend()\n",
    "        \n",
    "        # Plot accuracies\n",
    "        ax2.plot(self.train_accs, label='Train Acc')\n",
    "        ax2.plot(self.val_accs, label='Val Acc')\n",
    "        ax2.set_title('Accuracies')\n",
    "        ax2.set_xlabel('Epoch')\n",
    "        ax2.set_ylabel('Accuracy (%)')\n",
    "        ax2.legend()\n",
    "        \n",
    "        plt.tight_layout()\n",
    "        plt.show()\n",
    "        \n",
    "\n",
    "# ResidualBlock & ResNet definitions\n",
    "\n",
    "class ResidualBlock(nn.Module):\n",
    "    def __init__(self, in_channels, out_channels, stride=1):\n",
    "        super(ResidualBlock, self).__init__()\n",
    "        self.conv1 = nn.Conv2d(in_channels, out_channels, kernel_size=3,\n",
    "                              stride=stride, padding=1, bias=False)\n",
    "        self.bn1 = nn.BatchNorm2d(out_channels)\n",
    "        self.relu = nn.ReLU(inplace=True)\n",
    "        self.conv2 = nn.Conv2d(out_channels, out_channels, kernel_size=3,\n",
    "                              stride=1, padding=1, bias=False)\n",
    "        self.bn2 = nn.BatchNorm2d(out_channels)\n",
    "        self.skip = nn.Sequential()\n",
    "        if stride != 1 or in_channels != out_channels:\n",
    "            self.skip = nn.Sequential(\n",
    "                nn.Conv2d(in_channels, out_channels, kernel_size=1,\n",
    "                          stride=stride, bias=False),\n",
    "                nn.BatchNorm2d(out_channels)\n",
    "            )\n",
    "        self.dropout = nn.Dropout(0.3)  \n",
    "\n",
    "    def forward(self, x):\n",
    "        identity = x\n",
    "        if self.skip:\n",
    "            identity = self.skip(x)\n",
    "        out = self.conv1(x)\n",
    "        out = self.bn1(out)\n",
    "        out = self.relu(out)\n",
    "        out = self.conv2(out)\n",
    "        out = self.bn2(out)\n",
    "        out += identity\n",
    "        out = self.relu(out)\n",
    "        out = self.dropout(out)\n",
    "        return out\n",
    "\n",
    "class CustomResNet(nn.Module):\n",
    "    def __init__(self, num_classes=10):\n",
    "        super(CustomResNet, self).__init__()\n",
    "        self.init_conv = nn.Conv2d(3, 32, kernel_size=3, stride=1, padding=1, bias=False)\n",
    "        self.init_bn = nn.BatchNorm2d(32)\n",
    "        self.relu = nn.ReLU(inplace=True)\n",
    "        \n",
    "        # Stacked residual blocks with progressive channel increase\n",
    "        self.layer1 = nn.Sequential(\n",
    "            ResidualBlock(32, 64, stride=1),\n",
    "            ResidualBlock(64, 64, stride=1)\n",
    "        )\n",
    "        self.layer2 = nn.Sequential(\n",
    "            ResidualBlock(64, 128, stride=2),\n",
    "            ResidualBlock(128, 128, stride=1)\n",
    "        )\n",
    "        self.layer3 = nn.Sequential(\n",
    "            ResidualBlock(128, 256, stride=2),\n",
    "            ResidualBlock(256, 256, stride=1)\n",
    "        )\n",
    "        \n",
    "        self.avg_pool = nn.AdaptiveAvgPool2d(1)\n",
    "        self.dropout = nn.Dropout(0.3)\n",
    "        self.fc = nn.Linear(256, num_classes)\n",
    "\n",
    "    def forward(self, x):\n",
    "        out = self.relu(self.init_bn(self.init_conv(x)))\n",
    "        out = self.layer1(out)\n",
    "        out = self.layer2(out)\n",
    "        out = self.layer3(out)\n",
    "        out = self.avg_pool(out)\n",
    "        out = torch.flatten(out, 1)\n",
    "        out = self.dropout(out)\n",
    "        out = self.fc(out)\n",
    "        return out\n",
    "\n",
    "\n",
    "model = CustomResNet(num_classes=10)\n",
    "device = torch.device(\"cuda\" if torch.cuda.is_available() else \"cpu\")\n",
    "model = model.to(device)\n",
    "\n",
    "# Count and print total parameters\n",
    "total_params = sum(p.numel() for p in model.parameters())\n",
    "trainable_params = sum(p.numel() for p in model.parameters() if p.requires_grad)\n",
    "print(f\"\\nModel Summary:\")\n",
    "print(f\"Total parameters: {total_params:,}\")\n",
    "print(f\"Trainable parameters: {trainable_params:,}\\n\")\n",
    "\n",
    "summary(model, input_size=(3, 32, 32), device=str(device))\n",
    "\n",
    "\n",
    "def load_cifar_batch(filename):\n",
    "    with open(filename, 'rb') as f:\n",
    "        batch = pickle.load(f, encoding='bytes')\n",
    "    return batch\n",
    "\n",
    "def load_cifar10(cifar10_dir):\n",
    "    train_images = []\n",
    "    train_labels = []\n",
    "    for batch_id in range(1, 6):\n",
    "        batch_dict = load_cifar_batch(os.path.join(cifar10_dir, f'data_batch_{batch_id}'))\n",
    "        train_images.append(batch_dict[b'data'])\n",
    "        train_labels.append(batch_dict[b'labels'])\n",
    "\n",
    "    train_images = np.concatenate(train_images)\n",
    "    train_labels = np.concatenate(train_labels)\n",
    "\n",
    "    # Load standard CIFAR test set\n",
    "    test_dict = load_cifar_batch(os.path.join(cifar10_dir, 'test_batch'))\n",
    "    test_images = test_dict[b'data']\n",
    "    test_labels = test_dict[b'labels']\n",
    "\n",
    "    # Label names\n",
    "    meta_data_dict = load_cifar_batch(os.path.join(cifar10_dir, 'batches.meta'))\n",
    "    label_names = meta_data_dict[b'label_names']\n",
    "\n",
    "    \n",
    "    train_images = train_images.reshape((50000, 3, 32, 32))\n",
    "    test_images  = test_images.reshape((10000, 3, 32, 32))\n",
    "\n",
    "    train_images = np.transpose(train_images, (0, 2, 3, 1))\n",
    "    test_images  = np.transpose(test_images,  (0, 2, 3, 1))\n",
    "    return (train_images, train_labels), (test_images, test_labels), label_names\n",
    "\n",
    "\n",
    "# Data Augmentations & Datasets\n",
    "\n",
    "train_transform = transforms.Compose([\n",
    "    transforms.ToPILImage(),\n",
    "    transforms.RandomCrop(32, padding=4),\n",
    "    transforms.RandomHorizontalFlip(p=0.5),\n",
    "    transforms.ColorJitter(brightness=0.1, contrast=0.1),\n",
    "    transforms.RandomAffine(degrees=15, translate=(0.1, 0.1)),\n",
    "    transforms.ToTensor(),\n",
    "    transforms.Normalize((0.4914, 0.4822, 0.4465), (0.247, 0.243, 0.261)),\n",
    "    transforms.RandomErasing(p=0.1, scale=(0.02, 0.08), value=0)\n",
    "])\n",
    "\n",
    "test_transform = transforms.Compose([\n",
    "    transforms.ToPILImage(),\n",
    "    transforms.ToTensor(),\n",
    "    transforms.Normalize((0.4914, 0.4822, 0.4465), (0.247, 0.243, 0.261))\n",
    "])\n",
    "\n",
    "class CIFAR10Dataset(Dataset):\n",
    "    def __init__(self, images, labels, transform=None):\n",
    "        self.transform = transform\n",
    "        self.images = images\n",
    "        self.labels = labels\n",
    "\n",
    "    def __len__(self):\n",
    "        return len(self.images)\n",
    "\n",
    "    def __getitem__(self, idx):\n",
    "        image = self.images[idx]\n",
    "        label = self.labels[idx]\n",
    "        if self.transform:\n",
    "            image = self.transform(image)\n",
    "        return image, label\n",
    "\n",
    "\n",
    "# Load training data\n",
    "\n",
    "cifar10_dir = 'cifar-10-batches-py'\n",
    "(train_images, train_labels), (test_images, test_labels), label_names = load_cifar10(cifar10_dir)\n",
    "\n",
    "# Create datasets\n",
    "train_dataset = CIFAR10Dataset(train_images, train_labels, transform=train_transform)\n",
    "test_dataset = CIFAR10Dataset(test_images, test_labels, transform=test_transform)\n",
    "\n",
    "# Split training data into train and validation\n",
    "train_size = int(0.9 * len(train_dataset))\n",
    "val_size = len(train_dataset) - train_size\n",
    "train_dataset, val_dataset = random_split(train_dataset, [train_size, val_size])\n",
    "\n",
    "# DataLoaders with optimized settings\n",
    "train_loader = DataLoader(train_dataset, batch_size=128, shuffle=True, num_workers=4, pin_memory=True)\n",
    "val_loader = DataLoader(val_dataset, batch_size=128, shuffle=False, num_workers=4, pin_memory=True)\n",
    "test_loader = DataLoader(test_dataset, batch_size=256, shuffle=False, num_workers=4, pin_memory=True)\n",
    "\n",
    "\n",
    "# Training & Testing Functions\n",
    "\n",
    "def mixup_data(x, y, alpha=0.2):\n",
    "    if alpha > 0:\n",
    "        lam = np.random.beta(alpha, alpha)\n",
    "    else:\n",
    "        lam = 1\n",
    "    batch_size = x.size()[0]\n",
    "    index = torch.randperm(batch_size).to(device)\n",
    "    mixed_x = lam * x + (1 - lam) * x[index, :]\n",
    "    y_a, y_b = y, y[index]\n",
    "    return mixed_x, y_a, y_b, lam\n",
    "\n",
    "def train_one_epoch(model, train_loader, criterion, optimizer, device, mixup_alpha=0.2):\n",
    "    model.train()\n",
    "    running_loss = 0.0\n",
    "    correct = 0\n",
    "    total = 0\n",
    "    all_preds = []\n",
    "    all_targets = []\n",
    "\n",
    "    pbar = tqdm(train_loader, desc='Training', leave=False)\n",
    "    for batch_idx, (inputs, targets) in enumerate(pbar):\n",
    "        inputs, targets = inputs.to(device), targets.to(device)\n",
    "        \n",
    "        # Apply MixUp\n",
    "        inputs, targets_a, targets_b, lam = mixup_data(inputs, targets, alpha=mixup_alpha)\n",
    "        outputs = model(inputs)\n",
    "        loss = lam * criterion(outputs, targets_a) + (1 - lam) * criterion(outputs, targets_b)\n",
    "\n",
    "        optimizer.zero_grad()\n",
    "        loss.backward()\n",
    "        optimizer.step()\n",
    "\n",
    "        running_loss += loss.item()\n",
    "        _, predicted = outputs.max(1)\n",
    "        \n",
    "        total += targets.size(0)\n",
    "        correct += predicted.eq(targets).sum().item()\n",
    "        all_preds.extend(predicted.cpu().numpy())\n",
    "        all_targets.extend(targets.cpu().numpy())\n",
    "\n",
    "        pbar.set_postfix({'loss': running_loss/(batch_idx+1), \n",
    "                         'acc': 100.*correct/total})\n",
    "\n",
    "    epoch_loss = running_loss / len(train_loader)\n",
    "    epoch_acc = 100. * correct / total\n",
    "    epoch_prec = precision_score(all_targets, all_preds, average='macro')\n",
    "    \n",
    "    return epoch_loss, epoch_acc, epoch_prec\n",
    "\n",
    "def test_one_epoch(model, loader, criterion, device):\n",
    "    model.eval()\n",
    "    run_loss = 0.0\n",
    "    correct = 0\n",
    "    total = 0\n",
    "    all_targets = []\n",
    "    all_outputs = []\n",
    "    \n",
    "    with torch.no_grad():\n",
    "        for inputs, labels in tqdm(loader, desc=\"Test\", leave=False):\n",
    "            inputs, labels = inputs.to(device), labels.to(device)\n",
    "            outputs = model(inputs)\n",
    "            loss = criterion(outputs, labels)\n",
    "            \n",
    "            run_loss += loss.item()\n",
    "            _, preds = outputs.max(1)\n",
    "            correct += preds.eq(labels).sum().item()\n",
    "            total += labels.size(0)\n",
    "            \n",
    "            all_targets.extend(labels.cpu().numpy())\n",
    "            all_outputs.append(outputs)\n",
    "    \n",
    "    all_outputs = torch.cat(all_outputs, dim=0)\n",
    "    precision = precision_score(all_targets, torch.argmax(all_outputs, dim=1).cpu().numpy(), average='macro')\n",
    "    \n",
    "    return run_loss/len(loader), 100.*correct/total, precision\n",
    "\n",
    "\n",
    "# Training Setup\n",
    "\n",
    "epochs = 100  \n",
    "criterion = nn.CrossEntropyLoss(label_smoothing=0.1)  # Label smoothing\n",
    "optimizer = RAdam(model.parameters(), lr=0.001, weight_decay=1e-4)  # RAdam optimizer\n",
    "scheduler = ReduceLROnPlateau(optimizer, mode='max', factor=0.5, patience=10, verbose=True)  # Adaptive LR\n",
    "\n",
    "# Initialize metric tracker\n",
    "metric_tracker = MetricTracker()\n",
    "best_acc = 0.0\n",
    "\n",
    "for epoch in range(1, epochs+1):\n",
    "    train_loss, train_acc, train_prec = train_one_epoch(model, train_loader, criterion, optimizer, device)\n",
    "    val_loss, val_acc, val_prec = test_one_epoch(model, val_loader, criterion, device)\n",
    "    scheduler.step(val_acc)\n",
    "    \n",
    "    # Update metric tracker\n",
    "    metric_tracker.update(train_loss, train_acc, train_prec, val_loss, val_acc, val_prec)\n",
    "    \n",
    "    print(f\"[Epoch {epoch}/{epochs}]\")\n",
    "    print(f\"Train - Loss: {train_loss:.4f}, Acc: {train_acc:.2f}%, Precision: {train_prec:.4f}\")\n",
    "    print(f\"Valid - Loss: {val_loss:.4f}, Acc: {val_acc:.2f}%, Precision: {val_prec:.4f}\")\n",
    "    \n",
    "    if val_acc > best_acc:\n",
    "        best_acc = val_acc\n",
    "        torch.save(model.state_dict(), 'BestModel.pth')\n",
    "        print(f\"New best accuracy: {best_acc:.2f}%\")\n",
    "    \n",
    "    # Early stopping check\n",
    "    if epoch > 100 and val_acc < best_acc - 5:\n",
    "        print(\"Early stopping triggered\")\n",
    "        break\n",
    "\n",
    "# final test evaluation\n",
    "print(\"\\n=== Final Model Evaluation ===\")\n",
    "test_loss, test_acc, test_prec = test_one_epoch(model, test_loader, criterion, device)\n",
    "print(f\"Final Test Results:\")\n",
    "print(f\"Loss: {test_loss:.4f}\")\n",
    "print(f\"Accuracy: {test_acc:.2f}%\")\n",
    "print(f\"Precision: {test_prec:.4f}\")\n",
    "\n",
    "# Save metrics to file\n",
    "results = {\n",
    "    'train_history': {\n",
    "        'losses': metric_tracker.train_losses,\n",
    "        'accuracies': metric_tracker.train_accs,\n",
    "        'precisions': metric_tracker.train_precs\n",
    "    },\n",
    "    'val_history': {\n",
    "        'losses': metric_tracker.val_losses,\n",
    "        'accuracies': metric_tracker.val_accs,\n",
    "        'precisions': metric_tracker.val_precs\n",
    "    },\n",
    "    'final_test': {\n",
    "        'loss': test_loss,\n",
    "        'accuracy': test_acc,\n",
    "        'precision': test_prec\n",
    "    }\n",
    "}\n",
    "\n",
    "# Save results\n",
    "with open('training_results.pkl', 'wb') as f:\n",
    "    pickle.dump(results, f)\n",
    "\n",
    "# Plot final metrics\n",
    "plt.figure(figsize=(15, 5))\n",
    "metric_tracker.plot_metrics()\n",
    "print(f\"Training complete. Best validation accuracy: {best_acc:.2f}%\")\n",
    "plt.savefig('training_metrics.png')\n",
    "plt.close()\n",
    "\n",
    "# Save final weights\n",
    "torch.save(model.state_dict(), 'FinalModelWeights.pth')\n"
   ]
  },
  {
   "cell_type": "code",
   "execution_count": 12,
   "id": "4a63c496-3315-4cf5-9d85-9680a8b31992",
   "metadata": {},
   "outputs": [
    {
     "name": "stdout",
     "output_type": "stream",
     "text": [
      "Using device: cuda\n",
      "\n",
      "Model Architecture Summary:\n",
      "Total parameters: 2,760,490\n",
      "Trainable parameters: 2,760,490\n",
      "\n",
      "Loaded trained model from BestModel.pth\n",
      "Running Inference on Test Data...\n"
     ]
    },
    {
     "name": "stderr",
     "output_type": "stream",
     "text": [
      "                                                                        \r"
     ]
    },
    {
     "name": "stdout",
     "output_type": "stream",
     "text": [
      "\n",
      "Inference complete!\n",
      "• Predictions saved to: submission.csv\n",
      "• Prediction distribution plot saved to: prediction_distribution.png\n",
      "• Sample predictions visualization saved to: sample_predictions.png\n"
     ]
    }
   ],
   "source": [
    "#inference.py\n",
    "\n",
    "import torch\n",
    "import torch.nn as nn\n",
    "import torch.nn.functional as F\n",
    "import numpy as np\n",
    "import pickle\n",
    "import pandas as pd\n",
    "import os\n",
    "from torchvision import transforms\n",
    "from torch.utils.data import DataLoader, Dataset\n",
    "from tqdm import tqdm\n",
    "import matplotlib.pyplot as plt\n",
    "\n",
    "\n",
    "# ResidualBlock & ResNet definitions\n",
    "\n",
    "class ResidualBlock(nn.Module):\n",
    "    def __init__(self, in_channels, out_channels, stride=1):\n",
    "        super(ResidualBlock, self).__init__()\n",
    "        self.conv1 = nn.Conv2d(in_channels, out_channels, kernel_size=3,\n",
    "                              stride=stride, padding=1, bias=False)\n",
    "        self.bn1 = nn.BatchNorm2d(out_channels)\n",
    "        self.relu = nn.ReLU(inplace=True)\n",
    "        self.conv2 = nn.Conv2d(out_channels, out_channels, kernel_size=3,\n",
    "                              stride=1, padding=1, bias=False)\n",
    "        self.bn2 = nn.BatchNorm2d(out_channels)\n",
    "        self.skip = nn.Sequential()\n",
    "        if stride != 1 or in_channels != out_channels:\n",
    "            self.skip = nn.Sequential(\n",
    "                nn.Conv2d(in_channels, out_channels, kernel_size=1,\n",
    "                          stride=stride, bias=False),\n",
    "                nn.BatchNorm2d(out_channels)\n",
    "            )\n",
    "        self.dropout = nn.Dropout(0.3) \n",
    "\n",
    "    def forward(self, x):\n",
    "        identity = x\n",
    "        if self.skip:\n",
    "            identity = self.skip(x)\n",
    "        out = self.conv1(x)\n",
    "        out = self.bn1(out)\n",
    "        out = self.relu(out)\n",
    "        out = self.conv2(out)\n",
    "        out = self.bn2(out)\n",
    "        out += identity\n",
    "        out = self.relu(out)\n",
    "        out = self.dropout(out)\n",
    "        return out\n",
    "\n",
    "class CustomResNet(nn.Module):\n",
    "    def __init__(self, num_classes=10):\n",
    "        super(CustomResNet, self).__init__()\n",
    "        self.init_conv = nn.Conv2d(3, 32, kernel_size=3, stride=1, padding=1, bias=False)\n",
    "        self.init_bn = nn.BatchNorm2d(32)\n",
    "        self.relu = nn.ReLU(inplace=True)\n",
    "        \n",
    "        \n",
    "        self.layer1 = nn.Sequential(\n",
    "            ResidualBlock(32, 64, stride=1),\n",
    "            ResidualBlock(64, 64, stride=1)\n",
    "        )\n",
    "        self.layer2 = nn.Sequential(\n",
    "            ResidualBlock(64, 128, stride=2),\n",
    "            ResidualBlock(128, 128, stride=1)\n",
    "        )\n",
    "        self.layer3 = nn.Sequential(\n",
    "            ResidualBlock(128, 256, stride=2),\n",
    "            ResidualBlock(256, 256, stride=1)\n",
    "        )\n",
    "        \n",
    "        self.avg_pool = nn.AdaptiveAvgPool2d(1)\n",
    "        self.dropout = nn.Dropout(0.3)\n",
    "        self.fc = nn.Linear(256, num_classes)\n",
    "\n",
    "    def forward(self, x):\n",
    "        out = self.relu(self.init_bn(self.init_conv(x)))\n",
    "        out = self.layer1(out)\n",
    "        out = self.layer2(out)\n",
    "        out = self.layer3(out)\n",
    "        out = self.avg_pool(out)\n",
    "        out = torch.flatten(out, 1)\n",
    "        out = self.dropout(out)\n",
    "        out = self.fc(out)\n",
    "        return out\n",
    "\n",
    "\n",
    "# Load trained model for inference\n",
    "\n",
    "device = torch.device(\"cuda\" if torch.cuda.is_available() else \"cpu\")\n",
    "print(f\"Using device: {device}\")\n",
    "\n",
    "# Initialize model and load saved weights\n",
    "model = CustomResNet(num_classes=10).to(device)\n",
    "checkpoint_path = \"BestModel.pth\"  # Fixed checkpoint path\n",
    "model.load_state_dict(torch.load(checkpoint_path, map_location=device))\n",
    "model.eval()  \n",
    "\n",
    "# Count and print total parameters\n",
    "total_params = sum(p.numel() for p in model.parameters())\n",
    "trainable_params = sum(p.numel() for p in model.parameters() if p.requires_grad)\n",
    "print(f\"\\nModel Architecture Summary:\")\n",
    "print(f\"Total parameters: {total_params:,}\")\n",
    "print(f\"Trainable parameters: {trainable_params:,}\\n\")\n",
    "\n",
    "print(f\"✅ Loaded trained model from {checkpoint_path}\")\n",
    "\n",
    "\n",
    "# CIFAR-10 unlabeled test data loading\n",
    "\n",
    "def load_cifar_batch(filename):\n",
    "    with open(filename, 'rb') as f:\n",
    "        batch = pickle.load(f, encoding='bytes')\n",
    "    return batch\n",
    "\n",
    "# Load test data\n",
    "cifar10_batch = load_cifar_batch('cifar_test_nolabel.pkl')\n",
    "submission_images = cifar10_batch[b'data']\n",
    "submission_ids    = cifar10_batch[b'ids']\n",
    "\n",
    "\n",
    "test_transform = transforms.Compose([\n",
    "    transforms.ToPILImage(),\n",
    "    transforms.ToTensor(),\n",
    "    transforms.Normalize((0.4914, 0.4822, 0.4465), (0.247, 0.243, 0.261))\n",
    "])\n",
    "\n",
    "\n",
    "class CIFAR10DatasetTest(Dataset):\n",
    "    def __init__(self, images, ids, transform=None):\n",
    "        self.transform = transform\n",
    "        self.images = images\n",
    "        self.ids = ids\n",
    "\n",
    "    def __len__(self):\n",
    "        return len(self.images)\n",
    "\n",
    "    def __getitem__(self, idx):\n",
    "        image = self.images[idx]\n",
    "        if self.transform:\n",
    "            image = self.transform(image)\n",
    "        return image, self.ids[idx]\n",
    "\n",
    "\n",
    "submission_dataset = CIFAR10DatasetTest(submission_images, submission_ids, transform=test_transform)\n",
    "submission_loader  = DataLoader(submission_dataset, batch_size=128, shuffle=False, num_workers=4, pin_memory=True)\n",
    "\n",
    "\n",
    "# Run inference and save predictions\n",
    "image_ids = []\n",
    "predicted_labels = []\n",
    "\n",
    "print(\"Running Inference on Test Data...\")\n",
    "with torch.no_grad():\n",
    "    for inputs, ids_batch in tqdm(submission_loader, desc=\"Generating predictions\", leave=False):\n",
    "        inputs = inputs.to(device)\n",
    "        outputs = model(inputs)\n",
    "        _, preds = outputs.max(1)\n",
    "        image_ids.extend(ids_batch.numpy())\n",
    "        predicted_labels.extend(preds.cpu().numpy())\n",
    "\n",
    "# Load label names first\n",
    "meta_data_dict = load_cifar_batch(\"cifar-10-batches-py/batches.meta\")\n",
    "label_names = meta_data_dict[b'label_names']\n",
    "\n",
    "# Create DataFrame with ID and Labels columns\n",
    "df = pd.DataFrame({\n",
    "    \"ID\": image_ids, \n",
    "    \"Labels\": predicted_labels\n",
    "})\n",
    "\n",
    "# Save predictions to CSV\n",
    "csv_filename = \"submission.csv\"\n",
    "df.to_csv(csv_filename, index=False)\n",
    "\n",
    "# Visualize prediction distribution\n",
    "fig, ax = plt.subplots(figsize=(12, 6))\n",
    "ax.bar(range(10), pd.Series(predicted_labels).value_counts().sort_index().values)\n",
    "ax.set_title(\"Distribution of Predicted Classes\")\n",
    "ax.set_xlabel(\"Class Index\")\n",
    "ax.set_ylabel(\"Number of Predictions\")\n",
    "plt.xticks(range(10), [name.decode('utf-8') for name in label_names], rotation=45)\n",
    "plt.tight_layout()\n",
    "plt.savefig('prediction_distribution.png')\n",
    "plt.close('all')  # Close all figures\n",
    "\n",
    "# Show sample images with predictions\n",
    "start_idx = 750\n",
    "end_idx = 760\n",
    "top_images = [submission_dataset[i][0] for i in range(start_idx, end_idx)]\n",
    "top_labels = df.iloc[start_idx:end_idx][\"Labels\"]\n",
    "\n",
    "# Create subplots properly\n",
    "fig, axes = plt.subplots(2, 5, figsize=(15,6))\n",
    "for i, ax in enumerate(axes.flat):\n",
    "    img = top_images[i].permute(1,2,0)\n",
    "    # Denormalize the image\n",
    "    img = img * torch.tensor([0.247, 0.243, 0.261]) + torch.tensor([0.4914, 0.4822, 0.4465])\n",
    "    img = torch.clamp(img, 0, 1)\n",
    "    ax.imshow(img)\n",
    "    ax.set_title(f\"Pred: {top_labels.iloc[i]}\")\n",
    "    ax.axis('off')\n",
    "plt.tight_layout()\n",
    "plt.savefig('sample_predictions.png')\n",
    "plt.close('all')  # Close all figures\n",
    "\n",
    "print(\"\\nInference complete!\")\n",
    "print(f\"• Predictions saved to: {csv_filename}\")\n",
    "print(f\"• Prediction distribution plot saved to: prediction_distribution.png\")\n",
    "print(f\"• Sample predictions visualization saved to: sample_predictions.png\")\n"
   ]
  },
  {
   "cell_type": "code",
   "execution_count": null,
   "id": "dcf19707-112e-46a2-90de-93177cc3a160",
   "metadata": {},
   "outputs": [],
   "source": []
  }
 ],
 "metadata": {
  "kernelspec": {
   "display_name": "Python 3 (ipykernel)",
   "language": "python",
   "name": "python3"
  },
  "language_info": {
   "codemirror_mode": {
    "name": "ipython",
    "version": 3
   },
   "file_extension": ".py",
   "mimetype": "text/x-python",
   "name": "python",
   "nbconvert_exporter": "python",
   "pygments_lexer": "ipython3",
   "version": "3.9.18"
  }
 },
 "nbformat": 4,
 "nbformat_minor": 5
}
